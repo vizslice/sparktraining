{
 "cells": [
  {
   "cell_type": "code",
   "execution_count": 1,
   "metadata": {},
   "outputs": [],
   "source": [
    "import pyspark\n",
    "from pyspark.sql import SparkSession\n",
    "from pyspark import SparkContext\n",
    "from pyspark.sql.functions import format_number\n",
    "from pyspark.sql.functions import col, lit, when, udf, avg, mean, sum, max, min, count, countDistinct, desc, asc, round\n",
    "from pyspark.sql.types import StringType\n",
    "from pyspark.sql.functions import first, last\n"
   ]
  },
  {
   "cell_type": "code",
   "execution_count": 2,
   "metadata": {},
   "outputs": [
    {
     "data": {
      "text/html": [
       "\n",
       "        <div>\n",
       "            <p><b>SparkContext</b></p>\n",
       "\n",
       "            <p><a href=\"http://Mustafa:4042\">Spark UI</a></p>\n",
       "\n",
       "            <dl>\n",
       "              <dt>Version</dt>\n",
       "                <dd><code>v3.5.3</code></dd>\n",
       "              <dt>Master</dt>\n",
       "                <dd><code>local</code></dd>\n",
       "              <dt>AppName</dt>\n",
       "                <dd><code>dataframe_app</code></dd>\n",
       "            </dl>\n",
       "        </div>\n",
       "        "
      ],
      "text/plain": [
       "<SparkContext master=local appName=dataframe_app>"
      ]
     },
     "execution_count": 2,
     "metadata": {},
     "output_type": "execute_result"
    }
   ],
   "source": [
    "\n",
    "spark = SparkSession.builder \\\n",
    "    .master(\"local\") \\\n",
    "    .appName(\"dataframe_app\") \\\n",
    "    .config(\"spark.executer.memory\", \"16gb\") \\\n",
    "    .getOrCreate()\n",
    "\n",
    "sc = spark.sparkContext\n",
    "sc"
   ]
  },
  {
   "cell_type": "markdown",
   "metadata": {},
   "source": [
    "## 1. Window Functions"
   ]
  },
  {
   "cell_type": "markdown",
   "metadata": {},
   "source": [
    "## 2. PySpark Window Ranking functions"
   ]
  },
  {
   "cell_type": "code",
   "execution_count": 3,
   "metadata": {},
   "outputs": [
    {
     "name": "stdout",
     "output_type": "stream",
     "text": [
      "+----------+---------+-----+\n",
      "|  language|framework|users|\n",
      "+----------+---------+-----+\n",
      "|    Python|   Django|20000|\n",
      "|    Python|  FastAPI|20000|\n",
      "|JavaScript|AngularJS| 5000|\n",
      "|JavaScript|  ReactJS| 7000|\n",
      "|    Python|    Flask| 9000|\n",
      "+----------+---------+-----+\n",
      "\n"
     ]
    }
   ],
   "source": [
    "column_names = [\"language\", \"framework\", \"users\"]\n",
    "data = [\n",
    "    (\"Python\", \"Django\", 20000),\n",
    "    (\"Python\", \"FastAPI\", 20000),\n",
    "    (\"JavaScript\", \"AngularJS\", 5000),\n",
    "    (\"JavaScript\", \"ReactJS\", 7000),\n",
    "    (\"Python\", \"Flask\", 9000)\n",
    "]\n",
    "df = spark.createDataFrame(data, column_names)\n",
    "df.show()"
   ]
  },
  {
   "cell_type": "markdown",
   "metadata": {},
   "source": [
    "### Define Window"
   ]
  },
  {
   "cell_type": "code",
   "execution_count": null,
   "metadata": {},
   "outputs": [],
   "source": [
    "from pyspark.sql.window import Window\n",
    "import pyspark.sql.functions as F\n",
    "\n",
    "window_spec = Window.partitionBy(\"language\").orderBy(F.desc(\"users\"))"
   ]
  },
  {
   "cell_type": "markdown",
   "metadata": {},
   "source": [
    "### Window Function row_number()"
   ]
  },
  {
   "cell_type": "code",
   "execution_count": 7,
   "metadata": {},
   "outputs": [
    {
     "name": "stdout",
     "output_type": "stream",
     "text": [
      "+----------+---------+-----+----------+\n",
      "|  language|framework|users|row_number|\n",
      "+----------+---------+-----+----------+\n",
      "|JavaScript|  ReactJS| 7000|         1|\n",
      "|JavaScript|AngularJS| 5000|         2|\n",
      "|    Python|   Django|20000|         1|\n",
      "|    Python|  FastAPI|20000|         2|\n",
      "|    Python|    Flask| 9000|         3|\n",
      "+----------+---------+-----+----------+\n",
      "\n"
     ]
    }
   ],
   "source": [
    "df_new = df.withColumn(\"row_number\", F.row_number().over(window_spec))\n",
    "df_new.show()"
   ]
  },
  {
   "cell_type": "markdown",
   "metadata": {},
   "source": [
    "### Window Function rank()"
   ]
  },
  {
   "cell_type": "code",
   "execution_count": 12,
   "metadata": {},
   "outputs": [
    {
     "name": "stdout",
     "output_type": "stream",
     "text": [
      "+----------+---------+-----+----+\n",
      "|  language|framework|users|rank|\n",
      "+----------+---------+-----+----+\n",
      "|JavaScript|  ReactJS| 7000|   1|\n",
      "|JavaScript|AngularJS| 5000|   2|\n",
      "|    Python|   Django|20000|   1|\n",
      "|    Python|  FastAPI|20000|   1|\n",
      "|    Python|    Flask| 9000|   3|\n",
      "+----------+---------+-----+----+\n",
      "\n"
     ]
    }
   ],
   "source": [
    "df_new = df.withColumn(\"rank\", F.rank().over(window_spec))\n",
    "df_new.show()"
   ]
  },
  {
   "cell_type": "markdown",
   "metadata": {},
   "source": [
    "### Window Function dense_rank()"
   ]
  },
  {
   "cell_type": "code",
   "execution_count": 13,
   "metadata": {},
   "outputs": [
    {
     "name": "stdout",
     "output_type": "stream",
     "text": [
      "+----------+---------+-----+----+\n",
      "|  language|framework|users|rank|\n",
      "+----------+---------+-----+----+\n",
      "|JavaScript|  ReactJS| 7000|   1|\n",
      "|JavaScript|AngularJS| 5000|   2|\n",
      "|    Python|   Django|20000|   1|\n",
      "|    Python|  FastAPI|20000|   1|\n",
      "|    Python|    Flask| 9000|   2|\n",
      "+----------+---------+-----+----+\n",
      "\n"
     ]
    }
   ],
   "source": [
    "df_new = df.withColumn(\"rank\", F.dense_rank().over(window_spec))\n",
    "df_new.show()"
   ]
  },
  {
   "cell_type": "markdown",
   "metadata": {},
   "source": [
    "### percent_rank Window Function"
   ]
  },
  {
   "cell_type": "code",
   "execution_count": 14,
   "metadata": {},
   "outputs": [
    {
     "name": "stdout",
     "output_type": "stream",
     "text": [
      "+----------+---------+-----+------------+\n",
      "|  language|framework|users|percent_rank|\n",
      "+----------+---------+-----+------------+\n",
      "|JavaScript|  ReactJS| 7000|         0.0|\n",
      "|JavaScript|AngularJS| 5000|         1.0|\n",
      "|    Python|   Django|20000|         0.0|\n",
      "|    Python|  FastAPI|20000|         0.0|\n",
      "|    Python|    Flask| 9000|         1.0|\n",
      "+----------+---------+-----+------------+\n",
      "\n"
     ]
    }
   ],
   "source": [
    "df_new = df.withColumn(\"percent_rank\", F.percent_rank().over(window_spec))\n",
    "df_new.show()"
   ]
  },
  {
   "cell_type": "markdown",
   "metadata": {},
   "source": [
    "### ntile Window Function"
   ]
  },
  {
   "cell_type": "code",
   "execution_count": 15,
   "metadata": {},
   "outputs": [
    {
     "name": "stdout",
     "output_type": "stream",
     "text": [
      "+----------+---------+-----+-----+\n",
      "|  language|framework|users|ntile|\n",
      "+----------+---------+-----+-----+\n",
      "|JavaScript|  ReactJS| 7000|    1|\n",
      "|JavaScript|AngularJS| 5000|    2|\n",
      "|    Python|   Django|20000|    1|\n",
      "|    Python|  FastAPI|20000|    2|\n",
      "|    Python|    Flask| 9000|    3|\n",
      "+----------+---------+-----+-----+\n",
      "\n"
     ]
    }
   ],
   "source": [
    "df_new = df.withColumn(\"ntile\", F.ntile(4).over(window_spec))\n",
    "df_new.show()"
   ]
  },
  {
   "cell_type": "markdown",
   "metadata": {},
   "source": [
    "# Broadcast"
   ]
  },
  {
   "cell_type": "markdown",
   "metadata": {},
   "source": [
    "## Create Broadcast Variable"
   ]
  },
  {
   "cell_type": "code",
   "execution_count": null,
   "metadata": {},
   "outputs": [],
   "source": [
    "# Access the SparkContext via the SparkSession\n",
    "sc = spark.sparkContext\n",
    "\n",
    "# Create a list\n",
    "languages = [\"Python\", \"Java\"]\n",
    "\n",
    "# Broadcast the list\n",
    "broadcasted_languages = sc.broadcast(languages)"
   ]
  },
  {
   "cell_type": "markdown",
   "metadata": {},
   "source": [
    "## Use Broadcast Variable"
   ]
  },
  {
   "cell_type": "code",
   "execution_count": null,
   "metadata": {},
   "outputs": [
    {
     "name": "stdout",
     "output_type": "stream",
     "text": [
      "+--------+---------+-----+\n",
      "|language|framework|users|\n",
      "+--------+---------+-----+\n",
      "|  Python|   Django|20000|\n",
      "|  Python|  FastAPI| 9000|\n",
      "|    Java|   Spring| 7000|\n",
      "+--------+---------+-----+\n",
      "\n"
     ]
    }
   ],
   "source": [
    "# Filter DataFrame using the broadcasted variable\n",
    "filtered_df = df.filter(col(\"language\").isin(broadcasted_languages.value))\n",
    "\n",
    "# Show the filtered DataFrame\n",
    "filtered_df.show()"
   ]
  },
  {
   "cell_type": "code",
   "execution_count": null,
   "metadata": {},
   "outputs": [],
   "source": []
  }
 ],
 "metadata": {
  "kernelspec": {
   "display_name": ".venv",
   "language": "python",
   "name": "python3"
  },
  "language_info": {
   "codemirror_mode": {
    "name": "ipython",
    "version": 3
   },
   "file_extension": ".py",
   "mimetype": "text/x-python",
   "name": "python",
   "nbconvert_exporter": "python",
   "pygments_lexer": "ipython3",
   "version": "3.11.9"
  }
 },
 "nbformat": 4,
 "nbformat_minor": 2
}
